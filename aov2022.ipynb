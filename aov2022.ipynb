{
 "cells": [
  {
   "cell_type": "markdown",
   "id": "4bf2d2df-b81f-4165-ba6e-d355eacb1f0d",
   "metadata": {},
   "source": [
    "DAY 1\n"
   ]
  },
  {
   "cell_type": "code",
   "execution_count": 1,
   "id": "7130cd55-f4a7-4f67-8944-82c3fed09254",
   "metadata": {},
   "outputs": [],
   "source": [
    "import requests"
   ]
  },
  {
   "cell_type": "code",
   "execution_count": 7,
   "id": "f8d811c2-93b0-4207-85e4-bca6dc2b72b6",
   "metadata": {},
   "outputs": [],
   "source": [
    "input_path = r\"C:\\Users\\work\\aoc\\input.txt\""
   ]
  },
  {
   "cell_type": "code",
   "execution_count": 14,
   "id": "f75bf76a-9480-454e-b5f9-46bdd09daead",
   "metadata": {},
   "outputs": [],
   "source": [
    "\n",
    "with open(input_path,'r') as a:\n",
    "    calories = a.readlines()"
   ]
  },
  {
   "cell_type": "code",
   "execution_count": 21,
   "id": "23c0d1c9-4081-4ff9-b690-53e1eefa8163",
   "metadata": {},
   "outputs": [],
   "source": [
    "    calories_cleaned = [int(x[:-1]) if len(x)>2 else '' for x in calories]"
   ]
  },
  {
   "cell_type": "code",
   "execution_count": 27,
   "id": "9b6f3dec-ebde-4d92-b11f-84741157df1a",
   "metadata": {},
   "outputs": [],
   "source": [
    "elf_totals = []\n",
    "\n",
    "running_total = 0\n",
    "for snack in calories_cleaned:\n",
    "    if snack == '':\n",
    "        elf_totals.append(running_total)\n",
    "        running_total = 0\n",
    "        continue\n",
    "        \n",
    "    running_total += snack\n",
    "    \n",
    "    "
   ]
  },
  {
   "cell_type": "code",
   "execution_count": 30,
   "id": "0f6020f6-7edb-40a0-be16-fc17854bdb97",
   "metadata": {},
   "outputs": [
    {
     "data": {
      "text/plain": [
       "69177"
      ]
     },
     "execution_count": 30,
     "metadata": {},
     "output_type": "execute_result"
    }
   ],
   "source": [
    "max(elf_totals)"
   ]
  },
  {
   "cell_type": "code",
   "execution_count": 31,
   "id": "c4845300-92b7-4e55-b17e-ea25b6ecb14b",
   "metadata": {},
   "outputs": [],
   "source": [
    "elf_totals.sort()"
   ]
  },
  {
   "cell_type": "code",
   "execution_count": 34,
   "id": "5dca909e-0643-4128-886c-b19832cb137e",
   "metadata": {},
   "outputs": [],
   "source": [
    "top3elfs = elf_totals[-3:]"
   ]
  },
  {
   "cell_type": "code",
   "execution_count": 36,
   "id": "ce936689-83b0-4c12-a1c0-f27a380d0239",
   "metadata": {},
   "outputs": [
    {
     "data": {
      "text/plain": [
       "207456"
      ]
     },
     "execution_count": 36,
     "metadata": {},
     "output_type": "execute_result"
    }
   ],
   "source": [
    "sum(top3elfs)"
   ]
  },
  {
   "cell_type": "markdown",
   "id": "60af0a5c-ce62-4d6e-b630-b6109194e61e",
   "metadata": {},
   "source": [
    "DAY 2\n"
   ]
  },
  {
   "cell_type": "code",
   "execution_count": null,
   "id": "f32e0521-9f28-49dd-b661-0d5a9fe179a3",
   "metadata": {},
   "outputs": [],
   "source": []
  }
 ],
 "metadata": {
  "kernelspec": {
   "display_name": "Python 3 (ipykernel)",
   "language": "python",
   "name": "python3"
  },
  "language_info": {
   "codemirror_mode": {
    "name": "ipython",
    "version": 3
   },
   "file_extension": ".py",
   "mimetype": "text/x-python",
   "name": "python",
   "nbconvert_exporter": "python",
   "pygments_lexer": "ipython3",
   "version": "3.9.12"
  }
 },
 "nbformat": 4,
 "nbformat_minor": 5
}
