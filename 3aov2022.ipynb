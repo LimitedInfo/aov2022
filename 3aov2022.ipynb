{
 "cells": [
  {
   "cell_type": "markdown",
   "id": "2ee31709-541a-4a67-bcaa-8a4f9c63ecad",
   "metadata": {
    "pycharm": {
     "name": "#%% md\n"
    }
   },
   "source": [
    "DAY 3"
   ]
  },
  {
   "cell_type": "code",
   "execution_count": 1,
   "id": "77360cec-6862-49e0-9007-b7c69ae6921d",
   "metadata": {
    "pycharm": {
     "name": "#%%\n"
    }
   },
   "outputs": [],
   "source": [
    "input_path = r\"C:\\Users\\work\\aoc\\input3.txt\"\n",
    "\n",
    "with open(input_path,'r') as a:\n",
    "    uncleaneddata = a.readlines()"
   ]
  },
  {
   "cell_type": "code",
   "execution_count": 2,
   "id": "663227be-c907-4524-b111-9e4dfe204c25",
   "metadata": {
    "pycharm": {
     "name": "#%%\n"
    }
   },
   "outputs": [],
   "source": [
    "data = [x[:-1] for x in uncleaneddata]\n"
   ]
  },
  {
   "cell_type": "code",
   "execution_count": 3,
   "id": "b5a414b4-0227-4883-9af7-2f2679c09e50",
   "metadata": {
    "pycharm": {
     "name": "#%%\n"
    }
   },
   "outputs": [
    {
     "data": {
      "text/plain": "['NGvdqJmJvpNbGRMGQgRsfgfn',\n 'WlHTHShlLwSWjFRsncfbcwsgQc',\n 'BHtSBHWHSCWLZHlhjTHLLdbNNqNpzpDzNvDvtPmmPp',\n 'JJSShnTpDSJJlllfwBNVbMQWwhQhgQtt',\n 'cTzrvrHdLwwzttQNWB',\n 'qrFqTFvqZvrmsplsjlnDflnZ',\n 'mhhhVHvNNddHMwBqQwlWZZtv',\n 'fbjzjJllCtWjjrZtjq',\n 'CbgcgpPRDJfzVHFFnSnsSDlm',\n 'ZqBPqBQnPLmqZsFqhsvFsLZQMfSSMbbWddWbjbJSrgWgJf',\n 'NRHnlllcDwwCNClNtttHbNJrSJNfbdWMdfbWgdrJ',\n 'cHGlzTptHtCpncHnCpHpRGzDmvVhqLmvLPmPvLqPmzsqqmPB',\n 'rCzVtMMbMvCmmvGlclFQFfLpJFJfJpcLHPJL',\n 'nDGGwqGqnRTfpHLpRFpLFf',\n 'ZNdNTDsWgNZsZBndnGrzrlMrjgrmjVGjvC',\n 'MgFZHFTgqFFDZZDTdVdHrzQvLzCGwpCPrGLqQpzz',\n 'JsnmbjhmffJbRNJppzPPzwzzrwdv',\n 'lfblfthBRbBRjnjhBtBlZgdVcFSTVFDtSSWgMcdM',\n 'hPVhVhWPCMhlDTTWdrPlTcLjfbZbFNjZBbFNBbdBFbsB',\n 'MHSwMJpHnqJHwtqHGqGGmvqZsZFjBmsBNRBFfLbsFsZfsZ',\n 'pqtMHHQpvqnwMpgJMCChTQhVVlclPWrCCD',\n 'zRBBhZFwWZlBQpMZNNNJsfDpLsNsJppN',\n 'SvggPbjvVSvvtgGVPbbnSMcCLtMrDddssJdsLdfdCD',\n 'mTSmMgHjgmgGgqzTwZwBlBFzwB',\n 'WLzWZHWSZPFRVSPSPM',\n 'hmrvmGvfTCmhBGBqTfnmJFfdbQcwdMhMwRdbQMVQQcMhsQ',\n 'JGJJnrnnCmqBTJTrNBqBLDzHFLFDNgjZlWtDNZHL',\n 'bwbbnWwpbTwFHwRzzzmH',\n 'ZccjZjddjPVhJmrBQHHFQRHcWF',\n 'NVhWldsMjZZZLSnvSTGTgvMb',\n 'ccJbHpzccZJsNpJCmHHlBTgHnlTPmF',\n 'qvQGQfDVhhDfvVfVDSdDCbFnjmllPQjlbCmnFgjg',\n 'hSbtWRGvhdfDVdVRfvRNpsWsZLNMZzcswLZWMM',\n 'vlTdlBTMdtjcvLGmtb',\n 'SSgfSsJngCSSwNFgspHFNFFpjlbGjQbbQGLthLnWtmWWhjbm',\n 'SJsfqqgfNHwJfHgCpwzBZVMDBPMMRPTlqzBr',\n 'VHsVhtbRHRpVHBfBCJdNfGjggGJdqLGq',\n 'wSzSrrSMPDSDwzPjdqJjNwGdsLqGjj',\n 'MnrnQTnWZWWzWQDMvZhtHtshhHlHBcBBsvVt',\n 'DZbPqdTqGTZtRrzjFmZZtF',\n 'gjQwVvBVWgfghvgmcrBNFccHFRmHtF',\n 'QlgvWlfgVsQfdlqqjqPDbPlM',\n 'VcfLwwcMlpnfVDrDtrtvbjMtTM',\n 'mmgBgzSQmQdgHBFSLvvbDTJmTDvTJJDr',\n 'RWNBHHzWNSdSdzFgSLNWWfZGwfpcwWVnnfpCCWlV',\n 'GDZLtsJMFGLDPnbblJlNJNcJ',\n 'BBRgSwqwqRZhTVSqjVgRwCdQcmcPmdnPPnPnmjlrbmQj',\n 'RCqfVvhfCCShBCRfVCwztDGZMHpLWHftFptspF',\n 'dlZqlBfBSShZhvprbCJTDrJCJjJNDh',\n 'WGRwQwHsMVVGMsVGcRVtQWRVpNCjWNDbzbDNJnbnrCbprrNW',\n 'HgHRRVGGwLgLBPvgSp',\n 'QPlZSlZzVLLDwhDfBppf',\n 'bghGGhmqrspDcfbsbs',\n 'tTrdTgFddtnvmdgvtCTdGTTqFZjjQQPVZPSZSjlZhVVQjlRS',\n 'BgBFHnwwSTNHqSPN',\n 'GJmCbDdlbZGCLhsstNLsMZZZ',\n 'JGJpCCDvmlVDVldGJBVfBBRwRjnVWWBRfN',\n 'WTFWQgGQtTMqMCJJzDVDgCchhj',\n 'mNPBmPlPHrWmwmNLHmShcnJjhrnzJzdcdzdjJJ',\n 'SHssNRSmvPRmlsmLwwsmwLvpQptpQWMQbGFQFtfpFfZQ',\n 'DgpNLVjgNjjmzGPVRmfrZrctdTcrzfwzdfMc',\n 'bnbNqnbFNwMcMtMfwF',\n 'svCQHHhShnbCvHChsvHlLDVhJJLRJGNpgPJPjLLD',\n 'TmBzgTVVBgfbmTVfPmFRJcHctnHDLDDLJqqBGB',\n 'hwvlNCCvSphMwSvrlwCCrrDcfRlJDLRtGqcqHnqRqLGR',\n 'pMSSMMNCSwMjjWhwrrjShQNFmsPmPFWbbZzVfZsPPPZVmZ',\n 'sTTrWGCMggpVWhSBltWp',\n 'HNJdwLDzNcJnNLwJJPqpllqhBpqStjfwlfpj',\n 'PJHzDzFLtLccdLggvrGGmgvFssgG',\n 'FwCssBFRBlvbBVdQ',\n 'jPzjDpqNGqJzZGSNHppPclFvvdfVflblbJlmFfll',\n 'SDzDpSNqjZjjZFSrHrFZTTCMLsnTLnnnMhrLtLnn',\n 'ScWQvvSDddGrWVrG',\n 'fwhPFLpwTfTjrzwHdmmmGdgdsPsqdRmV',\n 'CHlFpTpwwCjwFjwjCBnrvQBZZcBSnZtvZl',\n 'vJvdWVNslWtJcDtDHrDf',\n 'GCnnMZpZnSZpvDqFtftfjfZqrh',\n 'TbGMSRCRvWbPNsWB',\n 'NNNdsRddGNdZZTCBtqbtBgtC',\n 'zhFHppHhzcgmzQhccjgmjhQTnvvBFtBnCBbbnTvtCCtntt',\n 'HpjmhfSjQwfzwHmcggfzjSLfVWPDsWMsMdWdDSMsGWPPllVN',\n 'WSvcSSwrGzFsznqPNNWqPqlllB',\n 'djVDdHdSPRqlntjN',\n 'LpZZgpLgLHTDHVpDSTsffvGwrcfffGwv',\n 'wGlbWGVvGlWlrvppbFMjQjsBjCsjmCzzQzNv',\n 'ZgfdJcfZhMNCgSBRCQRz',\n 'hcLDZPZdqZhJPhcTHJfPHVqlqtFWMrGGrpwVGVpWrV',\n 'dsngCgdssHDVsHdsFDvMDvmMmjTjDFTL',\n 'qZpSqptZZGWLTLSjlLHFzl',\n 'NZqqRpWqhQpNhqhpZRWBJQQssJbbCsdbHsCbgb',\n 'QdGBjjbHsBsBbBdGcwwTGrCRRrFcPPTC',\n 'ZDtvWfMDvWScSrpzPccCdr',\n 'hhZMgffDhZNvtDgHQsQQVQmBVVHNdV',\n 'LhQLrzVdVmqcjmTNzm',\n 'tHMZDJDZCDDtZMWwCJjcffqqfjRmqSRqcq',\n 'CpHpZZWWtWpWwBplZWmQbhVBVPhnPrhbLQPvvs',\n 'FFgFSmJmSgGpZzsmgGmbDlDzMQPDNPzRQRDjQQzV',\n 'CLwnwWBdrtthttTWBWdPnVvRVVVNMSVQPvVnnV',\n 'BTtdLthfhTrLdftCwqrddmGFcSfpGbsmFGHpmGFHHc',\n 'JFJnMZwQBqnJJBqZJqPqMFBlbmBHblWbrmlfbWgbvmWrgW',\n 'spCTjtVzsNDdsNdTsjVTtNzgHfmWWgHSSrgrbSbbhHbVHS',\n 'TfCdjjsjzLNsfTszcdqcQMnRMPPRnFRPQRFP',\n 'VvDgDqTDtTNWTWfNFWlW',\n 'pzPvdssRNQFQRNZF',\n 'CCpBpsrrccGvttgGqBDG',\n 'jmZrrjlCJqmCVFMPbFbBZPVp',\n 'dfLLfRMGTdHbssPLLPbFwL',\n 'QWWHHTRQdRRHRMhzWQfvddngqJqjjNgqqjlgvrtjJmtn',\n 'sGGwJdHDDTfWbTcRzbbz',\n 'BmjvdhNVlFBZmSZvFrWpfpcBrbzbWcbqpf',\n 'SLmSZLhNhMhwtLswPHGssd',\n 'mGhlPclTmhhlJRWlRTDPlJtTFMngBcLSBHHBHLHSwncFgLwB',\n 'jQVbjprjVfzbZQrzdGnHrrBLgSGwGFLHHg',\n 'zzZqjQjdvsRlGqThGJ',\n 'GSPQPvVmSwpVQGVlSQmWJRcFBpnFBcBWcJcJDc',\n 'rTTCLmhTTbZNqMNbhjfhmDzsFDWzsDnfcBWDDDzcFs',\n 'qmjhrhCtbMCZNhZMhNTZbLjvQdHdHGgwgdtQHlllQwlQgv',\n 'ggpCCgvjPTJWjBjWWJgCWCdVVHRZdLfZhqLdZRHZrf',\n 'GsstmNslzzzGlMnGMnVZRZrLpZqdhZHZrZHM',\n 'lNbDsbltmzpsmmmnnccBJTwPgWvvvTwPwFPS',\n 'FWbTRTdWGCnThqQVBQqJ',\n 'rrDMPrDcSrvtcJdLVhVHQMQVBQ',\n 'rNtNwrZtDNPmZStwvcvRlGFRlzCRlpmdpplbpb',\n 'gHrHrlFgjCrNDfCMTzwwLN',\n 'WhvTvvWnmQvpGWNNLzwWfNzW',\n 'vTnRZhnRRBhscBVpcBTvnsjFltPqggqHPHHjHrPcgrFg',\n 'VzfWRVsnNzWfsvpQPvvFbdVQpQ',\n 'SqCqqhLDTTCTTCDcSdbpPvdPFFvhMbdMvF',\n 'BCLBDCDGLlTClCSrglrGzWmrszzmHRJmfJfJpHNz',\n 'dwGBHGdwdcCMCBzzZJJssZFsBBgt',\n 'NRqbRbQhLQRLrQlTggFWlZtRlTvW',\n 'FbNDFDLqnmLmNbqbLQbhLNDpPcVHMSVMwCVHcPnVGccwjdcM',\n 'LdHtrrrHrLZrBVbQjtPnnsVb',\n 'TwfhhcTCTCpfJJwpTJwhDDPnbGsbFjlQnnQjFBFslsBQDl',\n 'pwJCThfRCMMMvhchhwHSmWLZHLNHMdrdZzPg',\n 'LbMQbHbHQLLMsWLvszvzvqCfqCCqss',\n 'ScWlpmplWrDzlzvznJ',\n 'RNNcZWhSZmdVdPwHbQQTTwNwjP',\n 'jFFFtHZjwmLNmnQCFL',\n 'sVbdsqcqHBHqrQrLPmWqQnmr',\n 'sfGJVVzJJsczczfsczBzzvdbTMTptlTZZgDSDtGlplZSlgHt',\n 'MgMQJdqqMDQJDggzTMgVplvffmctcCzmfjRlmmmjjR',\n 'HrGbGswnBBtRvccBlljB',\n 'HZPHRRGGshZHnnnwPnshnVZqMJJDdpQDVgDdVDWDpQ',\n 'whwQRQGHRVhWRRcLLJgLmL',\n 'jSnnzgBnpCZdCBjNmnNNJmllJTlccT',\n 'jPSzrzpzpCjgfZZrZCFpdwQDQVVPttGDtVqQVtHqth',\n 'mvnGFmvGhTcSCBcBpv',\n 'bwMRzbQLwBQRWSctCcTtLpss',\n 'JJgHZqRrbqDnmBjhDh',\n 'MVvvGrsbGtVsgTggHjSFHJBBBg',\n 'PPNpCpQPZppplttDNwZPBdfTFPPTSBWSFjjSTH',\n 'CpNwChQCzDDNZwhZlpwZpqrqsGGsmmctGbbbzcmMms',\n 'pjMbgCgdQjCgBjQQCncwcGGLDZvFtGLsZZFZtH',\n 'zPhhrVhVVSmqVqhmzPqvDtsLLHrFWFvGFGFsvt',\n 'SVPzVTzJNBfjDQbQTb',\n 'CRDjjRmmLhjRFFChmHDNLZzsZNnPZNzlnnsvlv',\n 'SSqcMwdrctQVtqTwSSgnvZnsZvnBZpcPsvlvbz',\n 'trMGSSVdQQqdGMtwwQCmRHHhmJFhsfJGfjHh',\n 'phJzrnJJwNNSJhSnwpwGGZzmvNfmmDvfcvcDfvbRPNcvvR',\n 'tWtgQBqsqdLFLmZvTRTfDZcb',\n 'ttssdgQqsHQtZFsqVdgdgdCBJGSphnljnJhjwrhnpJrrzJHl',\n 'srzpVWrWTptbrPpPPtcWpNhNNNdfhhDgDNvfBDNNds',\n 'jmnQHmLqlnSlGMjqnLLljRHqdNdgwHZBgfhZvBdNhDwBhhtZ',\n 'MjSlnLmMLnCGjlSQLVWCzbrcTpPtpFbFWr',\n 'ZnQRczHZsMSRZQcBRSZRscQwJbWFbbQwpWTjdFLJTJTWwd',\n 'PVmGqDlGhDPVNvqDmmqtqLbbpJfFJwpbdJpdbfdjwdbl',\n 'VGNCgGPgqVqhNvmNCNZnSsRLRsMzzgBRnHrS',\n 'ZgMMgJMhjmZrZgggmlTTbfwTfRfbRGwlGTDf',\n 'nPqQttNVPzSPnqpGDwDDbGfwbJ',\n 'dJvQzzJtdSPWSthhHMjgMvrHghsv',\n 'cMvwHCWcMnwWnScWVFzTqHpHFpVBFtFp',\n 'bbblgRDhtlGgRPFBRqFpmzVFBTFp',\n 'fPbtGJGhfDfDsPhQJDPbbnjjSWnwjdvQCnSSCnCSCM',\n 'NcgDtwghTLntgNtLrjfHSSFlSbCfprlL',\n 'ZGGMmdmVZVvsRQvMGRVVZCHPfpZSfZbFPlbPjCfH',\n 'RVRjvRzMQQJBVmzzgWgzTWTWhNcWzN',\n 'gsgBqdsWprWddpBghBpwwJzbLcvhCZmwZCFcJC',\n 'PRPtStHfwmJvzPmF',\n 'HnSHHRQDVFsVVgsgTWsG',\n 'QRQTRrDHSLSNzzZLzZ',\n 'dBmPwfwffWtWRtzdhhLzLzLzzLFN',\n 'BtWnWCCVBWtCBmRPqVmqmntjjlJHJslJQVsQjsbbHrjHDQ',\n 'TwwJrHSMnHGvWHMvvSqrrZbRrRqfqVNfbNRc',\n 'GjhstmPFFhlFtmmjQtlgVcZVfcgqqNRNpgRcbP',\n 'CzdCdFCtdzGWGJwWWHdW',\n 'zfSVfSpHVpCHSZLnsttDnvDvpcsqRc',\n 'rWzMGWFFPBFjqjDjFDFs',\n 'PbQQWbJPrQwPrrPBwrJCVzZZLZdLSLLmfZfHJd',\n 'gPDPLgsLNslNLHqlLqqjhjnwwjJbDjnjwTRnGD',\n 'tzdMdMddmcRMdtcFFGWnwWjFwjFhGbTG',\n 'mRMmttpVHNCNpNZN',\n 'mfCFGfDDFCDWtvvstjjJ',\n 'njnVnrggLlwVVqLpvHVpMpMsHVhhMW',\n 'QQPPPnjlPPSgwBrnNLcdFCNNGFbmbZFcZzFf',\n 'NzNHFNFnFrtgwwPchvGFFS',\n 'LsjdQCVsTsLCTTdMCJtQgPPqwhPgqScPGvSZ',\n 'jdLdVjJtCVjRCMpmpNfNNWHrNzDrNrHrmr',\n 'NmggPPrPbPmdCbcfCNLVRRWpWTWRVTpdVVWspW',\n 'qGhDzGqnwGQnJrjllJWttMRDFRtMVsTDTTZs',\n 'SrnHhGQlvLmSfbfc',\n 'DmdPCJMLlQdSjGCqjcGGccHH',\n 'zWtBwfsgvVnBfftWtnnpTmnTRhppHpTqpc',\n 'wzFtwZWmsVFzZtvPJSPbMFJFDJJJJd',\n 'wrPRRSJSWrTSRzRWrqlfCLlcBfBGDqrL',\n 'gVNQjgdVhdfqqhlDCBDs',\n 'NmjgbtmNtjNnjbPbvRJPbpwZwZSD',\n 'tNHGccGNthtSGmVjjVmrrVPqSB',\n 'fgDTwRwDFmLTFlspBBqjjBgqBssB',\n 'mLCZwZRMJMbtdWMtvd',\n 'TPzHPPgChjsgPdPTjQvZLvnpLQnvlRQn',\n 'GScFSzFWWrfGGMrVFMqGqmrBnplmwmnlZZlmnvvvLRnJLLvJ',\n 'qVSVFtFtFtSzrTNNDsHhhNTHht',\n 'NQqtqmqmNhvvclvhcljJ',\n 'CSCfMZSgWMvfWgrbjwcMJwrrrclr',\n 'CGSCZgSGZPRTSCWWDgGBRtnFRvqNRsLLzmsLzqpq',\n 'tWmtCZjnWZWCGjtnnmtcwFvvlgSDTDTvVwsVgCfT',\n 'LpLhpLdqbBMNsQPBQhpLvgFqllgfllvVvwTDTwlw',\n 'pNQBBdLbBPpPHLmGsRWjRZJzWZHc',\n 'WtjBSvBjWzTtzvDTjBfbbthsMNRNgCMQDgRcCcQwLRgCQgNc',\n 'HJmqnHqHpplVnlPdqGrpGQNLCgSwLMwFwFFCgnMLRw',\n 'SdJGpHVZmqpVVVdZVJGddsjvzzvZTsZvWTbvszWjWj',\n 'FhRhhLZgLZhCRWZBFFWRmGbvSgHqvvbPvHTPccVncb',\n 'wzSMpjJdwssdrdDfJJJsJSvpGVPqGpvVqTVqTnccnTvH',\n 'rwfMMdtDjNwjzDrjDDdtChRZWSWhmCWBSmLQRW',\n 'RWLNLWrhtrhWJmLnSStBBdVtBGVVBt',\n 'wQqnzjCFbflqpQlQFTDDGGsGDBZBSZMsDVfG',\n 'QvqCTwjjTqwbTqjznFzQvqjFJgmvgghJgPmgmvPNmNRJJNgN',\n 'qLqwhztjhqqDDzjZqqjPMmFmCnVDsmgbggggTMDC',\n 'WBhWJQrJcRmnFnWMTTCF',\n 'lvvJSlGSvBvJQBrcpSfwwLjLPjLfhptjwNtp',\n 'sbFjnZpPPGZLZzCRhqbJhJMCqMgS',\n 'vtNvFHBcNwNDHffvtfQMSMJVRMBMChVqSMCBJV',\n 'cQlvTffDlFWTlcfFTlHQNtzzGGWGdLsGWdrnzspjGdGr',\n 'LMQtlzlMQLLrztVfVdfqDdrhrhdd',\n 'JPJTHcvPTPTJGPZgbmvGPmcZhwRVdDBdSWfdRHSBfqBSVHqq',\n 'sJchPZGccmcbvcmgmPcCnnnnpzppQppspFjQntMl',\n 'qtQQtsMDqtPDGQltPHbsLFnMccRNcVLLrVNVwMVM',\n 'LCSdzZdBZmvzZTCBfJrwnWppFcWrFpdRnWpR',\n 'ThSgBZTLJmPHlgQHjPtq',\n 'mrwGPrVrbjbPVmwmbdTwbGfJMDJMgsqhhDjsqjJppfqt',\n 'SQnLnWnWHLSFCRnlQRnFhqfsDMJMppqDfcWgpDfD',\n 'NCSvLQnRSQFBLBzdgvTbbwPrzbPZ',\n 'FFjvvHZbHZnZpvFHZcFbgQVwgwQnJfQPVNQJGqSq',\n 'RWmCmdClRtTzVRwVfVQPNQgN',\n 'shwhzTsmlbhZDLbBHL',\n 'PpPHllshHDTlsprJrsPQpltzjVzjLNggZNznLNLnhNnnjL',\n 'qRBvSwqBdRqvmfvCRSSLjcnVcVmLgmnNZjmQVg',\n 'vdfbSfBWffMbQqQdtprtslHJsWDGHptt',\n 'pqQdFWlQZpGZpLpS',\n 'wnjwJhjvVgjwvwvsgwgtsRTtssGTtLrNtrSrHS',\n 'VDJVMGCCChjccDJDwgwVJvMBzBfzbzbDPPFBFBbffzbQqq',\n 'gBwwBZGhcfhnFjvrQjMhrjQQ',\n 'PPLJNdNldlNSRmzLSlpbHQvbvdMtjjbMtMtt',\n 'lqDJmlSmlmPzqNmzmVnvnBZDgvBWgcZTfD',\n 'HMqrwWqzWJqHzrjgGFNNtQFMFQnFBt',\n 'LddPLdVmchPSvmcvTZlvghLLFBDNDtFGDQpRnntnFDQnFPnB',\n 'SbSvZTSLSgqbCHJWzr',\n 'TGcjzjgtNqjttgNNTTjmGwLhfQQfDnDLDwSQWTSCvh',\n 'PHJRJJbBVMPRMJHbJRMPbwCQSSvfCDhVhvvwwvQLnW',\n 'ZJPMbHbJJJsdsJplRRRZsPJztrFrqtzGrgmcrprcmFjDgN',\n 'tlDpSbpwgbgtpddJppgJwJDtNQWGQlcGQGhlhnGGWcrcWWFr',\n 'MTZLqzjfFLqLjRfvqsQhNPGnhGGsnchW',\n 'LMCzjzMTTjjFRfZMBTCvRfLRDDbVVpSbSgwwwtSBSSDJgStg',\n 'ZLVTrJmJDHFtzSTlpc',\n 'wNhhNfhvwwvvfvPnsNPhglszqpcHcFbbFSzSzzCHzb',\n 'NWjPwgNgRHGWvhwWPfgfGwjMDQJdQLVLJLQVVLRdBRJrZr',\n 'CPRJCFJTqZfJlJRqssHJftCWQMnHHwMbbngMMrQMgMWwQn',\n 'BmzVVhvvcvDdWgwVrTnrMb',\n 'BjzvhjLLczzBjLchDLmLJtsCqFClTqsZCPtPTCjq',\n 'DbWjNCWQCRRNsDPpFGcjjcqFqFfm',\n 'PZdMSzSZTtZZqVmpqmmmTpgg',\n 'ZvZMzBztzvhvddPMQlNCQDbQLBLrsRRW',\n 'WzWFhHpWhvCpPpPLswMHswMMHLbgmH',\n 'NNZSZTVQNrTnqDqrrwtwwLstsMGMnbntGm',\n 'TBmQcrNqNSQVmrmQBPdpFFzhFlPzzCPF',\n 'nBgmSrjgmjtmrbjSFGLWtLVpFVQQVGFL',\n 'JlChvCzvqCqWffwFdFVQfPVPHPFGLV',\n 'JzvTThZcCCMcMMwJzlbjTjmnRgRTTBnWgbBn',\n 'rppjbbDpGnwrGprVCLLJZDzQqZzLNQqc',\n 'htflFBFmBBlWTTgsggtZHMQLCCCcHqHMfZczHq',\n 'gFdFTWgRhBmWWTFSGQbVnSSPnvndpv',\n 'qFSRRGGgTgThTQhcllCWCJCctWWhfJ',\n 'bvbdzNDMzHZNNHFHfJWWjljWNNfcnWtn',\n 'PdbPdPBHmsdbdbPdBHBdmdmsgrTqsGQRTwSpSFrqrRSFpRwp',\n 'pQJZZGQtChQtpWZQTTWhNtVdVWSLBrsLSVrLvrvrLdBd',\n 'lMHnzGRgPRMSMBLcvBSS',\n 'nglFzflzHRDGgzfzPgHRbTDQthbZbhhppNbbCqhb',\n 'jVrvrJjpZfZCCGctwhbhMRcM',\n 'BQQnFFTBdBndzssFsdTbRwDGTPGbcMbwtDgbcG',\n 'HnLtQQBLtWNrVpqjJvWN',\n 'dnVlsnJlMqnlNqJdnMRvDHBRvbBLHLpRSPPPRS',\n 'NcGGCthFwcFwmjCTGDSfPSSHSPfPtDHfbD',\n 'zNWNZGWNzQnWlJWVJn',\n 'tMGSBtRtvjFcGpQrQQQQrp',\n 'FffbJTJfPLNbTnJJmlVcQVfpQmlWVVfH',\n 'FTdJJdhNvZhMtRSh',\n 'pSTfMtMLSTPsPsBszP',\n 'jdlmlFHHhVdmVHFNFRnHzHQJsGZBJbbJDvsDRPBsrGrDrJ',\n 'VHnFjcdccjlmNVmnzmNVmCMggfqwtLLfSMwWtcWMSg']"
     },
     "execution_count": 3,
     "metadata": {},
     "output_type": "execute_result"
    }
   ],
   "source": [
    "data"
   ]
  },
  {
   "cell_type": "code",
   "execution_count": 4,
   "id": "0d17ff66-6058-459e-86c2-47412f7430c3",
   "metadata": {
    "pycharm": {
     "name": "#%%\n"
    }
   },
   "outputs": [],
   "source": [
    "def letter_value(letter):\n",
    "    if letter.islower():\n",
    "        return ord(letter)-96\n",
    "    else: \n",
    "        return ord(letter)-38"
   ]
  },
  {
   "cell_type": "code",
   "execution_count": 26,
   "outputs": [],
   "source": [
    "sample = ['vJrwpWtwJgWrhcsFMMfFFhFp',\n",
    "'jqHRNqRjqzjGDLGLrsFMfFZSrLrFZsSL',\n",
    "'PmmdzqPrVvPwwTWBwg',\n",
    "'wMqvLMZHhHMvwLHjbvcjnnSBnvTQFn',\n",
    "'ttgJtRGJQctTZtZT',\n",
    "'CrZsJsPPZsGzwwsLwLmpwMDw',]"
   ],
   "metadata": {
    "collapsed": false,
    "pycharm": {
     "name": "#%%\n"
    }
   }
  },
  {
   "cell_type": "code",
   "execution_count": 42,
   "id": "2b089c46-7872-4a1b-b45a-fc9941251a54",
   "metadata": {
    "pycharm": {
     "name": "#%%\n"
    }
   },
   "outputs": [],
   "source": [
    "val = 'jqHRNqRjqzjGDLGLrsFMfFZSrLrFZsSL'"
   ]
  },
  {
   "cell_type": "code",
   "execution_count": 43,
   "outputs": [
    {
     "data": {
      "text/plain": "'rsFMfFZSrLrFZsSL'"
     },
     "execution_count": 43,
     "metadata": {},
     "output_type": "execute_result"
    }
   ],
   "source": [
    "val[(len(val)//2):]"
   ],
   "metadata": {
    "collapsed": false,
    "pycharm": {
     "name": "#%%\n"
    }
   }
  },
  {
   "cell_type": "code",
   "execution_count": 44,
   "outputs": [
    {
     "data": {
      "text/plain": "'jqHRNqRjqzjGDLGL'"
     },
     "execution_count": 44,
     "metadata": {},
     "output_type": "execute_result"
    }
   ],
   "source": [
    "val[:(len(val)//2)]"
   ],
   "metadata": {
    "collapsed": false,
    "pycharm": {
     "name": "#%%\n"
    }
   }
  },
  {
   "cell_type": "code",
   "execution_count": 47,
   "id": "2791b2c7-4881-4e56-9aac-9de076763485",
   "metadata": {
    "pycharm": {
     "name": "#%%\n"
    }
   },
   "outputs": [
    {
     "name": "stdout",
     "output_type": "stream",
     "text": [
      "G\n",
      "w\n",
      "t\n",
      "h\n",
      "z\n",
      "Z\n",
      "v\n",
      "j\n",
      "D\n",
      "Q\n",
      "N\n",
      "z\n",
      "c\n",
      "R\n",
      "g\n",
      "q\n",
      "J\n",
      "t\n",
      "d\n",
      "m\n",
      "Q\n",
      "p\n",
      "t\n",
      "T\n",
      "S\n",
      "h\n",
      "N\n",
      "w\n",
      "c\n",
      "M\n",
      "H\n",
      "Q\n",
      "W\n",
      "v\n",
      "n\n",
      "q\n",
      "f\n",
      "w\n",
      "v\n",
      "Z\n",
      "B\n",
      "l\n",
      "M\n",
      "m\n",
      "W\n",
      "J\n",
      "j\n",
      "f\n",
      "h\n",
      "W\n",
      "g\n",
      "L\n",
      "b\n",
      "F\n",
      "H\n",
      "Z\n",
      "V\n",
      "g\n",
      "r\n",
      "v\n",
      "z\n",
      "F\n",
      "h\n",
      "B\n",
      "l\n",
      "W\n",
      "W\n",
      "w\n",
      "F\n",
      "B\n",
      "J\n",
      "r\n",
      "W\n",
      "P\n",
      "l\n",
      "J\n",
      "Z\n",
      "b\n",
      "Z\n",
      "F\n",
      "S\n",
      "W\n",
      "j\n",
      "T\n",
      "v\n",
      "g\n",
      "q\n",
      "D\n",
      "S\n",
      "Q\n",
      "G\n",
      "S\n",
      "N\n",
      "z\n",
      "J\n",
      "B\n",
      "z\n",
      "n\n",
      "f\n",
      "B\n",
      "V\n",
      "c\n",
      "T\n",
      "R\n",
      "B\n",
      "Z\n",
      "L\n",
      "v\n",
      "T\n",
      "B\n",
      "L\n",
      "c\n",
      "r\n",
      "q\n",
      "p\n",
      "f\n",
      "t\n",
      "C\n",
      "M\n",
      "c\n",
      "T\n",
      "M\n",
      "m\n",
      "C\n",
      "W\n",
      "c\n",
      "V\n",
      "h\n",
      "r\n",
      "B\n",
      "R\n",
      "n\n",
      "t\n",
      "D\n",
      "M\n",
      "s\n",
      "l\n",
      "N\n",
      "F\n",
      "q\n",
      "G\n",
      "z\n",
      "B\n",
      "Z\n",
      "R\n",
      "n\n",
      "P\n",
      "v\n",
      "L\n",
      "q\n",
      "g\n",
      "P\n",
      "z\n",
      "c\n",
      "r\n",
      "T\n",
      "L\n",
      "c\n",
      "G\n",
      "N\n",
      "L\n",
      "H\n",
      "s\n",
      "H\n",
      "C\n",
      "Q\n",
      "l\n",
      "g\n",
      "l\n",
      "q\n",
      "v\n",
      "H\n",
      "R\n",
      "Q\n",
      "L\n",
      "Z\n",
      "z\n",
      "h\n",
      "P\n",
      "V\n",
      "S\n",
      "d\n",
      "V\n",
      "r\n",
      "P\n",
      "d\n",
      "p\n",
      "F\n",
      "J\n",
      "D\n",
      "F\n",
      "p\n",
      "D\n",
      "V\n",
      "N\n",
      "F\n",
      "Q\n",
      "m\n",
      "d\n",
      "D\n",
      "S\n",
      "C\n",
      "n\n",
      "F\n",
      "r\n",
      "h\n",
      "b\n",
      "S\n",
      "g\n",
      "M\n",
      "j\n",
      "m\n",
      "t\n",
      "h\n",
      "M\n",
      "R\n",
      "C\n",
      "q\n",
      "H\n",
      "D\n",
      "n\n",
      "Z\n",
      "g\n",
      "p\n",
      "t\n",
      "t\n",
      "f\n",
      "v\n",
      "D\n",
      "W\n",
      "p\n",
      "b\n",
      "B\n",
      "W\n",
      "r\n",
      "H\n",
      "s\n",
      "M\n",
      "d\n",
      "g\n",
      "j\n",
      "W\n",
      "v\n",
      "n\n",
      "R\n",
      "h\n",
      "h\n",
      "m\n",
      "W\n",
      "p\n",
      "s\n",
      "D\n",
      "h\n",
      "d\n",
      "D\n",
      "M\n",
      "P\n",
      "b\n",
      "T\n",
      "V\n",
      "p\n",
      "l\n",
      "q\n",
      "B\n",
      "T\n",
      "s\n",
      "R\n",
      "H\n",
      "V\n",
      "j\n",
      "j\n",
      "T\n",
      "B\n",
      "H\n",
      "n\n",
      "B\n",
      "t\n",
      "f\n",
      "T\n",
      "D\n",
      "f\n",
      "d\n",
      "h\n",
      "N\n",
      "s\n",
      "W\n",
      "M\n",
      "D\n",
      "C\n",
      "T\n",
      "W\n",
      "R\n",
      "t\n",
      "W\n",
      "G\n",
      "f\n",
      "h\n",
      "T\n",
      "R\n",
      "c\n"
     ]
    }
   ],
   "source": [
    "res=0\n",
    "for dat in data:\n",
    "    for letter in dat[:(len(dat)//2)]:\n",
    "        if letter in dat[((len(dat)//2)):]:\n",
    "            # pass\n",
    "            print(letter)\n",
    "            res += letter_value(letter)\n",
    "            break"
   ]
  },
  {
   "cell_type": "code",
   "execution_count": 48,
   "outputs": [
    {
     "data": {
      "text/plain": "8139"
     },
     "execution_count": 48,
     "metadata": {},
     "output_type": "execute_result"
    }
   ],
   "source": [
    "res"
   ],
   "metadata": {
    "collapsed": false,
    "pycharm": {
     "name": "#%%\n"
    }
   }
  },
  {
   "cell_type": "code",
   "execution_count": 68,
   "outputs": [
    {
     "name": "stdout",
     "output_type": "stream",
     "text": [
      "b\n",
      "T\n",
      "l\n",
      "n\n",
      "G\n",
      "d\n",
      "M\n",
      "M\n",
      "F\n",
      "W\n",
      "b\n",
      "l\n",
      "s\n",
      "j\n",
      "L\n",
      "Z\n",
      "p\n",
      "h\n",
      "N\n",
      "W\n",
      "N\n",
      "f\n",
      "t\n",
      "F\n",
      "r\n",
      "v\n",
      "g\n",
      "S\n",
      "M\n",
      "H\n",
      "d\n",
      "m\n",
      "S\n",
      "f\n",
      "v\n",
      "M\n",
      "d\n",
      "G\n",
      "m\n",
      "p\n",
      "d\n",
      "T\n",
      "p\n",
      "F\n",
      "P\n",
      "W\n",
      "H\n",
      "R\n",
      "g\n",
      "B\n",
      "t\n",
      "D\n",
      "s\n",
      "Z\n",
      "t\n",
      "L\n",
      "J\n",
      "t\n",
      "j\n",
      "F\n",
      "R\n",
      "G\n",
      "z\n",
      "R\n",
      "j\n",
      "t\n",
      "r\n",
      "m\n",
      "D\n",
      "m\n",
      "z\n",
      "v\n",
      "s\n",
      "S\n",
      "S\n",
      "n\n",
      "h\n",
      "F\n",
      "h\n",
      "L\n",
      "g\n",
      "w\n",
      "Q\n",
      "G\n",
      "v\n",
      "g\n",
      "D\n",
      "F\n",
      "H\n",
      "T\n",
      "P\n",
      "m\n",
      "W\n",
      "Q\n",
      "F\n",
      "G\n",
      "t\n",
      "N\n",
      "F\n",
      "z\n"
     ]
    }
   ],
   "source": [
    "total2 = 0\n",
    "for x, dat in enumerate(data):\n",
    "    if x>=2 and (x+1)%3==0:\n",
    "        for letter in dat:\n",
    "\n",
    "            if letter in data[x-1] and letter in data[x-2]:\n",
    "                print(letter)\n",
    "                total2 += letter_value(letter)\n",
    "                break"
   ],
   "metadata": {
    "collapsed": false,
    "pycharm": {
     "name": "#%%\n"
    }
   }
  },
  {
   "cell_type": "code",
   "execution_count": 69,
   "outputs": [
    {
     "data": {
      "text/plain": "2668"
     },
     "execution_count": 69,
     "metadata": {},
     "output_type": "execute_result"
    }
   ],
   "source": [
    "total2"
   ],
   "metadata": {
    "collapsed": false,
    "pycharm": {
     "name": "#%%\n"
    }
   }
  }
 ],
 "metadata": {
  "kernelspec": {
   "display_name": "Python 3 (ipykernel)",
   "language": "python",
   "name": "python3"
  },
  "language_info": {
   "codemirror_mode": {
    "name": "ipython",
    "version": 3
   },
   "file_extension": ".py",
   "mimetype": "text/x-python",
   "name": "python",
   "nbconvert_exporter": "python",
   "pygments_lexer": "ipython3",
   "version": "3.9.12"
  }
 },
 "nbformat": 4,
 "nbformat_minor": 5
}